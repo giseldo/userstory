{
 "cells": [
  {
   "cell_type": "code",
   "execution_count": null,
   "id": "e98a6f4f",
   "metadata": {},
   "outputs": [
    {
     "name": "stdout",
     "output_type": "stream",
     "text": [
      "Collecting huggingface_hub\n",
      "  Downloading huggingface_hub-0.35.3-py3-none-any.whl.metadata (14 kB)\n",
      "Collecting filelock (from huggingface_hub)\n",
      "  Downloading filelock-3.19.1-py3-none-any.whl.metadata (2.1 kB)\n",
      "Requirement already satisfied: fsspec>=2023.5.0 in c:\\projetos\\user_story_tutor\\userstory\\.venv\\lib\\site-packages (from huggingface_hub) (2025.9.0)\n",
      "Requirement already satisfied: packaging>=20.9 in c:\\projetos\\user_story_tutor\\userstory\\.venv\\lib\\site-packages (from huggingface_hub) (25.0)\n",
      "Collecting pyyaml>=5.1 (from huggingface_hub)\n",
      "  Downloading pyyaml-6.0.3-cp312-cp312-win_amd64.whl.metadata (2.4 kB)\n",
      "Requirement already satisfied: requests in c:\\projetos\\user_story_tutor\\userstory\\.venv\\lib\\site-packages (from huggingface_hub) (2.32.5)\n",
      "Requirement already satisfied: tqdm>=4.42.1 in c:\\projetos\\user_story_tutor\\userstory\\.venv\\lib\\site-packages (from huggingface_hub) (4.67.1)\n",
      "Requirement already satisfied: typing-extensions>=3.7.4.3 in c:\\projetos\\user_story_tutor\\userstory\\.venv\\lib\\site-packages (from huggingface_hub) (4.15.0)\n",
      "Requirement already satisfied: colorama in c:\\projetos\\user_story_tutor\\userstory\\.venv\\lib\\site-packages (from tqdm>=4.42.1->huggingface_hub) (0.4.6)\n",
      "Requirement already satisfied: charset_normalizer<4,>=2 in c:\\projetos\\user_story_tutor\\userstory\\.venv\\lib\\site-packages (from requests->huggingface_hub) (3.4.3)\n",
      "Requirement already satisfied: idna<4,>=2.5 in c:\\projetos\\user_story_tutor\\userstory\\.venv\\lib\\site-packages (from requests->huggingface_hub) (3.10)\n",
      "Requirement already satisfied: urllib3<3,>=1.21.1 in c:\\projetos\\user_story_tutor\\userstory\\.venv\\lib\\site-packages (from requests->huggingface_hub) (2.5.0)\n",
      "Requirement already satisfied: certifi>=2017.4.17 in c:\\projetos\\user_story_tutor\\userstory\\.venv\\lib\\site-packages (from requests->huggingface_hub) (2025.10.5)\n",
      "Downloading huggingface_hub-0.35.3-py3-none-any.whl (564 kB)\n",
      "   ---------------------------------------- 0.0/564.3 kB ? eta -:--:--\n",
      "   ---------------------------------------- 564.3/564.3 kB 9.7 MB/s  0:00:00\n",
      "Downloading pyyaml-6.0.3-cp312-cp312-win_amd64.whl (154 kB)\n",
      "Downloading filelock-3.19.1-py3-none-any.whl (15 kB)\n",
      "Installing collected packages: pyyaml, filelock, huggingface_hub\n",
      "\n",
      "   ---------------------------------------- 0/3 [pyyaml]\n",
      "   ---------------------------------------- 0/3 [pyyaml]\n",
      "   -------------------------- ------------- 2/3 [huggingface_hub]\n",
      "   -------------------------- ------------- 2/3 [huggingface_hub]\n",
      "   -------------------------- ------------- 2/3 [huggingface_hub]\n",
      "   -------------------------- ------------- 2/3 [huggingface_hub]\n",
      "   -------------------------- ------------- 2/3 [huggingface_hub]\n",
      "   -------------------------- ------------- 2/3 [huggingface_hub]\n",
      "   -------------------------- ------------- 2/3 [huggingface_hub]\n",
      "   -------------------------- ------------- 2/3 [huggingface_hub]\n",
      "   -------------------------- ------------- 2/3 [huggingface_hub]\n",
      "   -------------------------- ------------- 2/3 [huggingface_hub]\n",
      "   -------------------------- ------------- 2/3 [huggingface_hub]\n",
      "   -------------------------- ------------- 2/3 [huggingface_hub]\n",
      "   -------------------------- ------------- 2/3 [huggingface_hub]\n",
      "   -------------------------- ------------- 2/3 [huggingface_hub]\n",
      "   -------------------------- ------------- 2/3 [huggingface_hub]\n",
      "   -------------------------- ------------- 2/3 [huggingface_hub]\n",
      "   -------------------------- ------------- 2/3 [huggingface_hub]\n",
      "   -------------------------- ------------- 2/3 [huggingface_hub]\n",
      "   -------------------------- ------------- 2/3 [huggingface_hub]\n",
      "   -------------------------- ------------- 2/3 [huggingface_hub]\n",
      "   -------------------------- ------------- 2/3 [huggingface_hub]\n",
      "   -------------------------- ------------- 2/3 [huggingface_hub]\n",
      "   -------------------------- ------------- 2/3 [huggingface_hub]\n",
      "   -------------------------- ------------- 2/3 [huggingface_hub]\n",
      "   -------------------------- ------------- 2/3 [huggingface_hub]\n",
      "   ---------------------------------------- 3/3 [huggingface_hub]\n",
      "\n",
      "Successfully installed filelock-3.19.1 huggingface_hub-0.35.3 pyyaml-6.0.3\n"
     ]
    }
   ],
   "source": [
    "# dependências\n",
    "!pip install huggingface_hub\n",
    "!pip install pandas\n",
    "!pip install fsspec"
   ]
  },
  {
   "cell_type": "code",
   "execution_count": 8,
   "id": "d0e4430e",
   "metadata": {},
   "outputs": [
    {
     "name": "stderr",
     "output_type": "stream",
     "text": [
      "c:\\Projetos\\user_story_tutor\\userstory\\.venv\\Lib\\site-packages\\tqdm\\auto.py:21: TqdmWarning: IProgress not found. Please update jupyter and ipywidgets. See https://ipywidgets.readthedocs.io/en/stable/user_install.html\n",
      "  from .autonotebook import tqdm as notebook_tqdm\n"
     ]
    }
   ],
   "source": [
    "import pandas as pd\n",
    "\n",
    "df = pd.read_csv(\"hf://datasets/giseldo/neodataset/issues.csv\")"
   ]
  },
  {
   "cell_type": "code",
   "execution_count": 10,
   "id": "5d1d140e",
   "metadata": {},
   "outputs": [
    {
     "name": "stdout",
     "output_type": "stream",
     "text": [
      "<class 'pandas.core.frame.DataFrame'>\n",
      "RangeIndex: 20479 entries, 0 to 20478\n",
      "Data columns (total 6 columns):\n",
      " #   Column       Non-Null Count  Dtype  \n",
      "---  ------       --------------  -----  \n",
      " 0   idproject    20479 non-null  int64  \n",
      " 1   issuekey     20479 non-null  int64  \n",
      " 2   created      20479 non-null  object \n",
      " 3   title        20479 non-null  object \n",
      " 4   description  18854 non-null  object \n",
      " 5   storypoints  20474 non-null  float64\n",
      "dtypes: float64(1), int64(2), object(3)\n",
      "memory usage: 960.1+ KB\n"
     ]
    }
   ],
   "source": [
    "df.info()"
   ]
  },
  {
   "cell_type": "code",
   "execution_count": 14,
   "id": "566fea6c",
   "metadata": {},
   "outputs": [
    {
     "data": {
      "text/plain": [
       "(33,)"
      ]
     },
     "execution_count": 14,
     "metadata": {},
     "output_type": "execute_result"
    }
   ],
   "source": [
    "df[\"idproject\"].unique().shape"
   ]
  }
 ],
 "metadata": {
  "kernelspec": {
   "display_name": ".venv",
   "language": "python",
   "name": "python3"
  },
  "language_info": {
   "codemirror_mode": {
    "name": "ipython",
    "version": 3
   },
   "file_extension": ".py",
   "mimetype": "text/x-python",
   "name": "python",
   "nbconvert_exporter": "python",
   "pygments_lexer": "ipython3",
   "version": "3.12.0"
  }
 },
 "nbformat": 4,
 "nbformat_minor": 5
}
